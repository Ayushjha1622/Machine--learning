{
  "nbformat": 4,
  "nbformat_minor": 0,
  "metadata": {
    "colab": {
      "provenance": [],
      "authorship_tag": "ABX9TyPDro9pZtPa1+Tt0hRUox99",
      "include_colab_link": true
    },
    "kernelspec": {
      "name": "python3",
      "display_name": "Python 3"
    },
    "language_info": {
      "name": "python"
    }
  },
  "cells": [
    {
      "cell_type": "markdown",
      "metadata": {
        "id": "view-in-github",
        "colab_type": "text"
      },
      "source": [
        "<a href=\"https://colab.research.google.com/github/Ayushjha1622/week1-HTML-CipherSchools/blob/main/data_preprocessing.ipynb\" target=\"_parent\"><img src=\"https://colab.research.google.com/assets/colab-badge.svg\" alt=\"Open In Colab\"/></a>"
      ]
    },
    {
      "cell_type": "code",
      "execution_count": 1,
      "metadata": {
        "id": "guduREyKov7c"
      },
      "outputs": [],
      "source": [
        "import pandas as pd\n"
      ]
    },
    {
      "cell_type": "code",
      "source": [
        "df = pd.read_csv('/content/demo1.csv')\n",
        "df.shape"
      ],
      "metadata": {
        "colab": {
          "base_uri": "https://localhost:8080/"
        },
        "id": "KihyEzJFo-i_",
        "outputId": "4671ed10-8e05-4c94-c8ea-9f26e35cdce0"
      },
      "execution_count": 3,
      "outputs": [
        {
          "output_type": "execute_result",
          "data": {
            "text/plain": [
              "(9, 4)"
            ]
          },
          "metadata": {},
          "execution_count": 3
        }
      ]
    },
    {
      "cell_type": "code",
      "source": [
        "print(df)"
      ],
      "metadata": {
        "colab": {
          "base_uri": "https://localhost:8080/"
        },
        "id": "Ku26I-NPpOCv",
        "outputId": "76226e24-bb71-47d7-96f1-1953cc8c9c56"
      },
      "execution_count": 5,
      "outputs": [
        {
          "output_type": "stream",
          "name": "stdout",
          "text": [
            "  Ethinicity  Height  Weight Survive\n",
            "0      White   186.0    90.0     Yes\n",
            "1    African   185.0    98.0      No\n",
            "2      Asian   175.0    80.0      No\n",
            "3    African   180.0    88.0     Yes\n",
            "4      Asian   178.0     NaN      No\n",
            "5      Asian   172.0    72.0     Yes\n",
            "6      White   178.0    75.0      No\n",
            "7      White     NaN    89.0     Yes\n",
            "8    African   186.0    90.0     Yes\n"
          ]
        }
      ]
    },
    {
      "cell_type": "code",
      "source": [
        "#### remove column contains NAN values\n",
        "df1 = df.dropna(axis=1)\n",
        "print(df1)"
      ],
      "metadata": {
        "colab": {
          "base_uri": "https://localhost:8080/"
        },
        "id": "-WygFxgbpQjA",
        "outputId": "c41fa8b2-5214-42ad-aa87-5cb3fe7bd70c"
      },
      "execution_count": 6,
      "outputs": [
        {
          "output_type": "stream",
          "name": "stdout",
          "text": [
            "  Ethinicity Survive\n",
            "0      White     Yes\n",
            "1    African      No\n",
            "2      Asian      No\n",
            "3    African     Yes\n",
            "4      Asian      No\n",
            "5      Asian     Yes\n",
            "6      White      No\n",
            "7      White     Yes\n",
            "8    African     Yes\n"
          ]
        }
      ]
    },
    {
      "cell_type": "code",
      "source": [
        "### remove rows within NAN values\n",
        "df2 = df.dropna(axis=0)\n",
        "print(df2)"
      ],
      "metadata": {
        "colab": {
          "base_uri": "https://localhost:8080/"
        },
        "id": "-ITLvgYLr3J1",
        "outputId": "1e0fa7dd-4398-4c05-eaa9-4fce9d0ba7cd"
      },
      "execution_count": 7,
      "outputs": [
        {
          "output_type": "stream",
          "name": "stdout",
          "text": [
            "  Ethinicity  Height  Weight Survive\n",
            "0      White   186.0    90.0     Yes\n",
            "1    African   185.0    98.0      No\n",
            "2      Asian   175.0    80.0      No\n",
            "3    African   180.0    88.0     Yes\n",
            "5      Asian   172.0    72.0     Yes\n",
            "6      White   178.0    75.0      No\n",
            "8    African   186.0    90.0     Yes\n"
          ]
        }
      ]
    },
    {
      "cell_type": "code",
      "source": [
        "### remove rows where columns are NAN\n",
        "df3 = df.dropna(axis=0, how='all')\n",
        "print(df3)"
      ],
      "metadata": {
        "colab": {
          "base_uri": "https://localhost:8080/"
        },
        "id": "bqJZsEEwtMEN",
        "outputId": "8ec13ccc-9e59-45dc-850c-cf3cc1c61639"
      },
      "execution_count": 8,
      "outputs": [
        {
          "output_type": "stream",
          "name": "stdout",
          "text": [
            "  Ethinicity  Height  Weight Survive\n",
            "0      White   186.0    90.0     Yes\n",
            "1    African   185.0    98.0      No\n",
            "2      Asian   175.0    80.0      No\n",
            "3    African   180.0    88.0     Yes\n",
            "4      Asian   178.0     NaN      No\n",
            "5      Asian   172.0    72.0     Yes\n",
            "6      White   178.0    75.0      No\n",
            "7      White     NaN    89.0     Yes\n",
            "8    African   186.0    90.0     Yes\n"
          ]
        }
      ]
    },
    {
      "cell_type": "code",
      "source": [
        "### remove rows where any of column is NAN\n",
        "df4 = df.dropna(axis=0, how='any')\n",
        "print(df4)"
      ],
      "metadata": {
        "colab": {
          "base_uri": "https://localhost:8080/"
        },
        "id": "VmTvUVdwtf2f",
        "outputId": "e84f2884-7b52-49d4-aa7a-88f0552f6ce3"
      },
      "execution_count": 9,
      "outputs": [
        {
          "output_type": "stream",
          "name": "stdout",
          "text": [
            "  Ethinicity  Height  Weight Survive\n",
            "0      White   186.0    90.0     Yes\n",
            "1    African   185.0    98.0      No\n",
            "2      Asian   175.0    80.0      No\n",
            "3    African   180.0    88.0     Yes\n",
            "5      Asian   172.0    72.0     Yes\n",
            "6      White   178.0    75.0      No\n",
            "8    African   186.0    90.0     Yes\n"
          ]
        }
      ]
    },
    {
      "cell_type": "code",
      "source": [
        "### delete rows when not have threshold non-NAN values\n",
        "df5 = df.dropna(axis=0, thresh=2)\n",
        "print(df5)"
      ],
      "metadata": {
        "colab": {
          "base_uri": "https://localhost:8080/"
        },
        "id": "2zPQ1n9luIDg",
        "outputId": "b05d79c1-7d87-4916-933f-c536d982f45b"
      },
      "execution_count": 10,
      "outputs": [
        {
          "output_type": "stream",
          "name": "stdout",
          "text": [
            "  Ethinicity  Height  Weight Survive\n",
            "0      White   186.0    90.0     Yes\n",
            "1    African   185.0    98.0      No\n",
            "2      Asian   175.0    80.0      No\n",
            "3    African   180.0    88.0     Yes\n",
            "4      Asian   178.0     NaN      No\n",
            "5      Asian   172.0    72.0     Yes\n",
            "6      White   178.0    75.0      No\n",
            "7      White     NaN    89.0     Yes\n",
            "8    African   186.0    90.0     Yes\n"
          ]
        }
      ]
    },
    {
      "cell_type": "code",
      "source": [
        "### delete rows if NAN appears in specific column\n",
        "df6 = df.dropna(axis=0, subset=['Height'])\n",
        "print(df6)"
      ],
      "metadata": {
        "colab": {
          "base_uri": "https://localhost:8080/"
        },
        "id": "9q6HR-UBug3R",
        "outputId": "0754b104-ec34-4b11-ce1d-5707ebd0a7fa"
      },
      "execution_count": 11,
      "outputs": [
        {
          "output_type": "stream",
          "name": "stdout",
          "text": [
            "  Ethinicity  Height  Weight Survive\n",
            "0      White   186.0    90.0     Yes\n",
            "1    African   185.0    98.0      No\n",
            "2      Asian   175.0    80.0      No\n",
            "3    African   180.0    88.0     Yes\n",
            "4      Asian   178.0     NaN      No\n",
            "5      Asian   172.0    72.0     Yes\n",
            "6      White   178.0    75.0      No\n",
            "8    African   186.0    90.0     Yes\n"
          ]
        }
      ]
    },
    {
      "cell_type": "code",
      "source": [
        "df7 =df.copy()\n",
        "from sklearn.impute import SimpleImputer\n",
        "si = SimpleImputer(strategy='mean')\n",
        "df7[['Height']] = si.fit_transform(df7[['Height']])\n",
        "df7[['Weight']] = si.fit_transform(df7[['Weight']])\n",
        "print(df7)"
      ],
      "metadata": {
        "colab": {
          "base_uri": "https://localhost:8080/"
        },
        "id": "jN0Pdzu_viYY",
        "outputId": "d60464b6-93e2-4ecc-989d-36c3460cd0a1"
      },
      "execution_count": 13,
      "outputs": [
        {
          "output_type": "stream",
          "name": "stdout",
          "text": [
            "  Ethinicity  Height  Weight Survive\n",
            "0      White   186.0   90.00     Yes\n",
            "1    African   185.0   98.00      No\n",
            "2      Asian   175.0   80.00      No\n",
            "3    African   180.0   88.00     Yes\n",
            "4      Asian   178.0   85.25      No\n",
            "5      Asian   172.0   72.00     Yes\n",
            "6      White   178.0   75.00      No\n",
            "7      White   180.0   89.00     Yes\n",
            "8    African   186.0   90.00     Yes\n"
          ]
        }
      ]
    },
    {
      "cell_type": "code",
      "source": [],
      "metadata": {
        "id": "Nka0QFmGxdxu"
      },
      "execution_count": null,
      "outputs": []
    }
  ]
}